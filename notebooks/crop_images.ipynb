{
 "cells": [
  {
   "cell_type": "code",
   "execution_count": null,
   "id": "4f4291ac",
   "metadata": {},
   "outputs": [],
   "source": [
    "from PIL import Image\n",
    "import os\n",
    "from tqdm import tqdm\n",
    "import glob\n",
    "import shutil"
   ]
  },
  {
   "cell_type": "code",
   "execution_count": null,
   "id": "01d3c4af",
   "metadata": {},
   "outputs": [],
   "source": [
    "#crop the autochromes \n",
    "#the crop on the bottom of the images needs to be bigger because of the museum watermark\n",
    "\n",
    "# Set the input directory path\n",
    "input_directory = \"/path/to/input_directory\"\n",
    "\n",
    "# Set the output folder path\n",
    "output_folder = \"/path/to/output_folder\"\n",
    "\n",
    "# List to store files that couldn't be processed\n",
    "errolist = []\n",
    "\n",
    "# Iterate over each file in the input directory\n",
    "for file in tqdm(os.listdir(input_directory)):\n",
    "    try:\n",
    "        # Get the full file path\n",
    "        file_path = os.path.join(input_directory, file)\n",
    "\n",
    "        # Open the image using PIL\n",
    "        img = Image.open(file_path)\n",
    "\n",
    "        # Define crop fractions and calculate coordinates\n",
    "        frac1 = 0.92\n",
    "        frac2 = 0.75\n",
    "        left = img.size[0] * ((1 - frac1) / 2)\n",
    "        upper = img.size[1] * ((1 - frac1) / 2)\n",
    "        right = img.size[0] - ((1 - frac1) / 2) * img.size[0]\n",
    "        bottom = img.size[1] - ((1 - frac2) / 2) * img.size[1]\n",
    "\n",
    "        # Crop the image\n",
    "        imcrop = img.crop((left, upper, right, bottom))\n",
    "\n",
    "        # Save the cropped image to the output folder\n",
    "        output_path = os.path.join(output_folder, file)\n",
    "        imcrop.save(output_path)\n",
    "    except:\n",
    "        # Append the file name to the list of files that couldn't be processed\n",
    "        notdl.append(file)"
   ]
  },
  {
   "cell_type": "code",
   "execution_count": null,
   "id": "5119b931",
   "metadata": {},
   "outputs": [],
   "source": [
    "#crop the borders of the photochromes\n",
    "\n",
    "# Set the input directory path\n",
    "input_directory = \"/path/to/input_directory\"\n",
    "\n",
    "# Set the output folder path\n",
    "output_folder = \"/path/to/output_folder\"\n",
    "\n",
    "# List to store files that couldn't be processed\n",
    "errolist = []\n",
    "\n",
    "for file in tqdm(os.listdir(input_directory)):\n",
    "    try:\n",
    "         # Get the full file path\n",
    "        file_path = os.path.join(input_directory, file)\n",
    "\n",
    "        # Open the image using PIL\n",
    "        img = Image.open(file_path)\n",
    "        \n",
    "        # Define crop fractions and calculate coordinates\n",
    "        frac=0.85\n",
    "        left = img.size[0]*((1-frac)/2)\n",
    "        upper = img.size[1]*((1-frac)/2)\n",
    "        right = img.size[0]-((1-frac)/2)*img.size[0]\n",
    "        bottom = img.size[1]-((1-frac)/2)*img.size[1]\n",
    "        \n",
    "        # Crop the image\n",
    "        imcrop = img.crop((left, upper, right, bottom)\n",
    "        \n",
    "        # Save the cropped image to the output folder\n",
    "        imcrop.save(os.path.join(OutputFolder,file,))\n",
    "    except:\n",
    "        # Append the file name to the list of files that couldn't be processed\n",
    "        errorlist.append(file)"
   ]
  }
 ],
 "metadata": {
  "kernelspec": {
   "display_name": "Python 3",
   "language": "python",
   "name": "python3"
  },
  "language_info": {
   "codemirror_mode": {
    "name": "ipython",
    "version": 3
   },
   "file_extension": ".py",
   "mimetype": "text/x-python",
   "name": "python",
   "nbconvert_exporter": "python",
   "pygments_lexer": "ipython3",
   "version": "3.8.12"
  }
 },
 "nbformat": 4,
 "nbformat_minor": 5
}

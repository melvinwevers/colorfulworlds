{
 "cells": [
  {
   "cell_type": "code",
   "execution_count": 56,
   "metadata": {},
   "outputs": [],
   "source": [
    "import pickle\n",
    "import math\n",
    "import numpy as np\n",
    "import random\n",
    "import matplotlib.pyplot as plt"
   ]
  },
  {
   "cell_type": "code",
   "execution_count": 57,
   "metadata": {},
   "outputs": [],
   "source": [
    "with open('../models/buckets_16_8.pkl', 'rb') as f:\n",
    "            buckets = pickle.load(f)"
   ]
  },
  {
   "cell_type": "code",
   "execution_count": 63,
   "metadata": {},
   "outputs": [],
   "source": [
    "bucket_nr = 383"
   ]
  },
  {
   "cell_type": "code",
   "execution_count": 64,
   "metadata": {},
   "outputs": [],
   "source": [
    "\n",
    "\n",
    "def gather_colors(bucket_nr):\n",
    "    colors = []\n",
    "    for _ in buckets:\n",
    "        try:\n",
    "            for k, v in _.items():\n",
    "                if k == 'img':\n",
    "                    pass\n",
    "                elif k == bucket_nr:\n",
    "                    colors.append(v['color'])\n",
    "        except:\n",
    "            pass\n",
    "    print(f'size of bucket: {len(colors)}')\n",
    "    return colors"
   ]
  },
  {
   "cell_type": "code",
   "execution_count": 65,
   "metadata": {},
   "outputs": [
    {
     "name": "stdout",
     "output_type": "stream",
     "text": [
      "size of bucket: 1155\n"
     ]
    }
   ],
   "source": []
  },
  {
   "cell_type": "code",
   "execution_count": 69,
   "metadata": {},
   "outputs": [
    {
     "data": {
      "image/png": "[encoded data removed]",
      "text/plain": [
       "<Figure size 200x200 with 1 Axes>"
      ]
     },
     "metadata": {},
     "output_type": "display_data"
    }
   ],
   "source": [
    "color_count = len(colors)\n",
    "grid_cols = int(math.ceil(math.sqrt(color_count)))\n",
    "grid_rows = int(math.ceil(color_count / grid_cols))\n",
    "\n",
    "# Initialize an empty array for the image\n",
    "img_array = np.zeros((grid_rows * 1, grid_cols * 1, 3), dtype=np.uint8)\n",
    "\n",
    "random.shuffle(colors)\n",
    "\n",
    "for i, color in enumerate(colors):\n",
    "    rgb = colors[i]\n",
    "    \n",
    "    # Find the x, y position for this color in the grid\n",
    "    grid_x = (i % grid_cols) * 1\n",
    "    grid_y = (i // grid_cols) * 1\n",
    "    \n",
    "    # Fill the corresponding part of the image array with this color\n",
    "    img_array[grid_y:grid_y+5, grid_x:grid_x+5] = rgb\n",
    "\n",
    "# Display the image\n",
    "plt.figure(figsize=(2, 2))\n",
    "plt.imshow(img_array)\n",
    "plt.axis('off')  # Remove axes for visualization purposes\n",
    "plt.title(bucket_nr)\n",
    "plt.savefig(f'bucket_{bucket_nr}_viz.png')\n",
    "plt.show()\n"
   ]
  },
  {
   "cell_type": "code",
   "execution_count": null,
   "metadata": {},
   "outputs": [],
   "source": []
  },
  {
   "cell_type": "code",
   "execution_count": null,
   "metadata": {},
   "outputs": [],
   "source": []
  }
 ],
 "metadata": {
  "kernelspec": {
   "display_name": "Python 3 (ipykernel)",
   "language": "python",
   "name": "python3"
  },
  "language_info": {
   "codemirror_mode": {
    "name": "ipython",
    "version": 3
   },
   "file_extension": ".py",
   "mimetype": "text/x-python",
   "name": "python",
   "nbconvert_exporter": "python",
   "pygments_lexer": "ipython3",
   "version": "3.11.3"
  }
 },
 "nbformat": 4,
 "nbformat_minor": 4
}
